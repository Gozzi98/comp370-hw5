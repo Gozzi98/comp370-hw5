{
 "cells": [
  {
   "cell_type": "code",
   "execution_count": 1,
   "id": "6a707229-c322-4c7b-964e-1f3b5791da6f",
   "metadata": {},
   "outputs": [
    {
     "ename": "ModuleNotFoundError",
     "evalue": "No module named 'scipy'",
     "output_type": "error",
     "traceback": [
      "\u001b[0;31m---------------------------------------------------------------------------\u001b[0m",
      "\u001b[0;31mModuleNotFoundError\u001b[0m                       Traceback (most recent call last)",
      "Cell \u001b[0;32mIn[1], line 5\u001b[0m\n\u001b[1;32m      3\u001b[0m \u001b[38;5;28;01mimport\u001b[39;00m \u001b[38;5;21;01mmatplotlib\u001b[39;00m\u001b[38;5;21;01m.\u001b[39;00m\u001b[38;5;21;01mpyplot\u001b[39;00m \u001b[38;5;28;01mas\u001b[39;00m \u001b[38;5;21;01mplt\u001b[39;00m\n\u001b[1;32m      4\u001b[0m \u001b[38;5;28;01mimport\u001b[39;00m \u001b[38;5;21;01mseaborn\u001b[39;00m \u001b[38;5;28;01mas\u001b[39;00m \u001b[38;5;21;01msns\u001b[39;00m\n\u001b[0;32m----> 5\u001b[0m \u001b[38;5;28;01mfrom\u001b[39;00m \u001b[38;5;21;01mscipy\u001b[39;00m\u001b[38;5;21;01m.\u001b[39;00m\u001b[38;5;21;01mstats\u001b[39;00m \u001b[38;5;28;01mimport\u001b[39;00m chi2_contingency\n\u001b[1;32m      7\u001b[0m \u001b[38;5;66;03m# Load the dataset with no header\u001b[39;00m\n\u001b[1;32m      8\u001b[0m df \u001b[38;5;241m=\u001b[39m pd\u001b[38;5;241m.\u001b[39mread_csv(\u001b[38;5;124m\"\u001b[39m\u001b[38;5;124mnyc_311.csv\u001b[39m\u001b[38;5;124m\"\u001b[39m, header\u001b[38;5;241m=\u001b[39m\u001b[38;5;28;01mNone\u001b[39;00m)\n",
      "\u001b[0;31mModuleNotFoundError\u001b[0m: No module named 'scipy'"
     ]
    }
   ],
   "source": [
    "import pandas as pd\n",
    "import numpy as np\n",
    "import matplotlib.pyplot as plt\n",
    "import seaborn as sns\n",
    "from scipy.stats import chi2_contingency\n",
    "\n",
    "# Load the dataset with no header\n",
    "df = pd.read_csv(\"nyc_311.csv\", header=None)\n",
    "\n",
    "# Extract relevant columns by index (complaint type and timestamp)\n",
    "df = df[[3, 1]]\n",
    "\n",
    "# Convert the timestamp to a datetime object\n",
    "df[1] = pd.to_datetime(df[1])\n",
    "\n",
    "# Define a function to categorize seasons\n",
    "def get_season(month):\n",
    "    if 3 <= month <= 5:\n",
    "        return \"Spring\"\n",
    "    elif 6 <= month <= 8:\n",
    "        return \"Summer\"\n",
    "    elif 9 <= month <= 11:\n",
    "        return \"Fall\"\n",
    "    else:\n",
    "        return \"Winter\"\n",
    "\n",
    "# Create a new column for seasons\n",
    "df['Season'] = df[1].dt.month.apply(get_season)\n",
    "\n",
    "# Group the data by complaint type and season and count frequencies\n",
    "complaints_by_season = df.groupby([0, 'Season']).size().unstack(fill_value=0)\n",
    "\n",
    "# Perform a chi-squared test to check for statistical significance\n",
    "chi2, p, _, _ = chi2_contingency(complaints_by_season)\n",
    "\n",
    "# Print the p-value\n",
    "print(f\"P-value from chi-squared test: {p}\")\n",
    "\n",
    "# Create a heatmap to visualize the differences\n",
    "plt.figure(figsize=(10, 6))\n",
    "sns.heatmap(complaints_by_season, annot=True, fmt='d', cmap='YlGnBu')\n",
    "plt.title(\"Noise Complaints by Type and Season\")\n",
    "plt.xlabel(\"Season\")\n",
    "plt.ylabel(\"Complaint Type\")\n",
    "plt.show()\n"
   ]
  },
  {
   "cell_type": "code",
   "execution_count": null,
   "id": "600b6332-a20e-4488-bbc3-fbda1b7508dc",
   "metadata": {},
   "outputs": [],
   "source": []
  }
 ],
 "metadata": {
  "kernelspec": {
   "display_name": "Python 3 (ipykernel)",
   "language": "python",
   "name": "python3"
  },
  "language_info": {
   "codemirror_mode": {
    "name": "ipython",
    "version": 3
   },
   "file_extension": ".py",
   "mimetype": "text/x-python",
   "name": "python",
   "nbconvert_exporter": "python",
   "pygments_lexer": "ipython3",
   "version": "3.10.12"
  }
 },
 "nbformat": 4,
 "nbformat_minor": 5
}
